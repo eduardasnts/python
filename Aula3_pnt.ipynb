{
  "nbformat": 4,
  "nbformat_minor": 0,
  "metadata": {
    "colab": {
      "provenance": []
    },
    "kernelspec": {
      "name": "python3",
      "display_name": "Python 3"
    },
    "language_info": {
      "name": "python"
    }
  },
  "cells": [
    {
      "cell_type": "code",
      "execution_count": null,
      "metadata": {
        "colab": {
          "base_uri": "https://localhost:8080/"
        },
        "id": "HDEwX8c9faT4",
        "outputId": "9fbd5151-a085-44f5-f245-aaa5d84964e6"
      },
      "outputs": [
        {
          "output_type": "stream",
          "name": "stdout",
          "text": [
            "<class 'bool'>\n"
          ]
        }
      ],
      "source": [
        "#ETE Cícero Dias\n",
        "#Docente: Cloves Rocha\n",
        "#Estudante: Maria Eduarda\n",
        "#Tipos Primitivos de Dados em Python\n",
        "#print('Olá mundo')\n",
        "\n",
        "c = False\n",
        "print(type(c))"
      ]
    }
  ]
}
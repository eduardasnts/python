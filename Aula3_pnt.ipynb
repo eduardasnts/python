{
  "nbformat": 4,
  "nbformat_minor": 0,
  "metadata": {
    "colab": {
      "provenance": [],
      "authorship_tag": "ABX9TyM2vQDujpFynEpfAHDywOca",
      "include_colab_link": true
    },
    "kernelspec": {
      "name": "python3",
      "display_name": "Python 3"
    },
    "language_info": {
      "name": "python"
    }
  },
  "cells": [
    {
      "cell_type": "markdown",
      "metadata": {
        "id": "view-in-github",
        "colab_type": "text"
      },
      "source": [
        "<a href=\"https://colab.research.google.com/github/eduardasnts/python/blob/main/Aula3_pnt.ipynb\" target=\"_parent\"><img src=\"https://colab.research.google.com/assets/colab-badge.svg\" alt=\"Open In Colab\"/></a>"
      ]
    },
    {
      "cell_type": "code",
      "execution_count": 1,
      "metadata": {
        "colab": {
          "base_uri": "https://localhost:8080/"
        },
        "id": "HDEwX8c9faT4",
        "outputId": "6df2ffb4-a16e-4698-f171-3985896f31d3"
      },
      "outputs": [
        {
          "output_type": "stream",
          "name": "stdout",
          "text": [
            "<class 'int'>\n"
          ]
        }
      ],
      "source": [
        "#ETE Cícero Dias\n",
        "#Docente: Cloves Rocha\n",
        "#Estudante: Maria\n",
        "#Tipos Primitivos de Dados em Python\n",
        "#print('Olá mundo')\n",
        "\n",
        "c = 10\n",
        "print(type(c))"
      ]
    }
  ]
}
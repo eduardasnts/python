{
  "nbformat": 4,
  "nbformat_minor": 0,
  "metadata": {
    "colab": {
      "provenance": [],
      "authorship_tag": "ABX9TyP8wL0uNOuozs5FLQSxshHS",
      "include_colab_link": true
    },
    "kernelspec": {
      "name": "python3",
      "display_name": "Python 3"
    },
    "language_info": {
      "name": "python"
    }
  },
  "cells": [
    {
      "cell_type": "markdown",
      "metadata": {
        "id": "view-in-github",
        "colab_type": "text"
      },
      "source": [
        "<a href=\"https://colab.research.google.com/github/eduardasnts/python/blob/main/AtividadePYTHON.ipynb\" target=\"_parent\"><img src=\"https://colab.research.google.com/assets/colab-badge.svg\" alt=\"Open In Colab\"/></a>"
      ]
    },
    {
      "cell_type": "code",
      "execution_count": 1,
      "metadata": {
        "colab": {
          "base_uri": "https://localhost:8080/"
        },
        "id": "AvUB0O0HlpJO",
        "outputId": "91a5ce33-230a-44eb-aae0-e6dc61a45661"
      },
      "outputs": [
        {
          "output_type": "stream",
          "name": "stdout",
          "text": [
            "Olá ETE Porto Digital!\n"
          ]
        }
      ],
      "source": [
        "#Questão 1\n",
        "print('Olá ETE Porto Digital!')"
      ]
    },
    {
      "cell_type": "code",
      "source": [
        "#Questão 2\n",
        "numero = input('Informe um número: ')\n",
        "print('O número informado foi', numero)"
      ],
      "metadata": {
        "colab": {
          "base_uri": "https://localhost:8080/"
        },
        "id": "w0KvjlPkmPZV",
        "outputId": "62aac1c0-c2ae-437b-ea0c-19cb17b5af96"
      },
      "execution_count": 2,
      "outputs": [
        {
          "output_type": "stream",
          "name": "stdout",
          "text": [
            "Informe um número: 14\n",
            "O número informado foi 14\n"
          ]
        }
      ]
    },
    {
      "cell_type": "code",
      "source": [
        "#Questão 3\n",
        "numeroA = float(input('Digite o primeiro número: '))\n",
        "numeroB = float(input('Digite o segundo número: '))\n",
        "soma = numeroA + numeroB\n",
        "print('A soma dos dois números é:', soma)"
      ],
      "metadata": {
        "colab": {
          "base_uri": "https://localhost:8080/"
        },
        "id": "CW8ZMXeZmbt0",
        "outputId": "79986c27-fa1f-424b-e253-7e4ade5d18fe"
      },
      "execution_count": 6,
      "outputs": [
        {
          "output_type": "stream",
          "name": "stdout",
          "text": [
            "Digite o primeiro número: 8\n",
            "Digite o segundo número: 9\n",
            "A soma dos dois números é: 17.0\n"
          ]
        }
      ]
    },
    {
      "cell_type": "code",
      "source": [
        "#Questão 4\n",
        "nota1 = float(input(\"Digite a primeira nota: \"))\n",
        "nota2 = float(input(\"Digite a segunda nota: \"))\n",
        "nota3 = float(input(\"Digite a terceira nota: \"))\n",
        "nota4 = float(input(\"Digite a quarta nota: \"))\n",
        "media = (nota1 + nota2 + nota3 + nota4) / 4\n",
        "print(\"Sua média final é:\", media)"
      ],
      "metadata": {
        "colab": {
          "base_uri": "https://localhost:8080/"
        },
        "id": "Sd8w6B-Im1vV",
        "outputId": "fb2373a0-a081-4cf1-ba0c-7b52d38d2b39"
      },
      "execution_count": 7,
      "outputs": [
        {
          "output_type": "stream",
          "name": "stdout",
          "text": [
            "Digite a primeira nota: 6\n",
            "Digite a segunda nota: 8\n",
            "Digite a terceira nota: 6\n",
            "Digite a quarta nota: 9\n",
            "Sua média final é: 7.25\n"
          ]
        }
      ]
    },
    {
      "cell_type": "code",
      "source": [
        "#Questão 5\n",
        "metros = float(input(\"Digite o valor em metros: \"))\n",
        "centimetros = metros * 100\n",
        "print(\"O valor em centímetros é:\", centimetros)\n"
      ],
      "metadata": {
        "colab": {
          "base_uri": "https://localhost:8080/"
        },
        "id": "7Fpa12X1nOPS",
        "outputId": "816ee979-58f8-4a4e-9fe4-3a2054a0b05e"
      },
      "execution_count": 8,
      "outputs": [
        {
          "output_type": "stream",
          "name": "stdout",
          "text": [
            "Digite o valor em metros: 1.71\n",
            "O valor em centímetros é: 171.0\n"
          ]
        }
      ]
    },
    {
      "cell_type": "code",
      "source": [
        "#Questão 6\n",
        "import math\n",
        "raio = float(input(\"Digite o raio do círculo: \"))\n",
        "area = math.pi * raio**2\n",
        "print(\"A área do círculo é:\", area)"
      ],
      "metadata": {
        "colab": {
          "base_uri": "https://localhost:8080/"
        },
        "id": "XwVd89qfneQ8",
        "outputId": "e581f73e-e56c-4a71-d862-4de552fa1e14"
      },
      "execution_count": 11,
      "outputs": [
        {
          "output_type": "stream",
          "name": "stdout",
          "text": [
            "Digite o raio do círculo: 4\n",
            "A área do círculo é: 50.26548245743669\n"
          ]
        }
      ]
    },
    {
      "cell_type": "code",
      "source": [
        "#Questão 7\n",
        "lado = float(input(\"Digite o valor do lado do quadrado: \"))\n",
        "area = lado * 2\n",
        "dobroarea = 2 * area\n",
        "print(\"A área do quadrado é:\", area)\n",
        "print(\"O dobro da área é:\", dobroarea)"
      ],
      "metadata": {
        "colab": {
          "base_uri": "https://localhost:8080/"
        },
        "id": "mjdnLCD0nrZ8",
        "outputId": "0da42a48-a8c8-4a6a-9f15-c127f4a1bf8a"
      },
      "execution_count": 12,
      "outputs": [
        {
          "output_type": "stream",
          "name": "stdout",
          "text": [
            "Digite o valor do lado do quadrado: 5\n",
            "A área do quadrado é: 10.0\n",
            "O dobro da área é: 20.0\n"
          ]
        }
      ]
    },
    {
      "cell_type": "code",
      "source": [
        "#Questão 8\n",
        "valorhora = float(input(\"Digite o valor do seu salário por hora: \"))\n",
        "horastrabalhadas = float(input(\"Digite o número de horas trabalhadas no mês: \"))\n",
        "salariomensal = valorhora * horastrabalhadas\n",
        "print(\"Seu salário mensal é:\", salariomensal)\n"
      ],
      "metadata": {
        "colab": {
          "base_uri": "https://localhost:8080/"
        },
        "id": "6zrBKhnSn5vO",
        "outputId": "cdc8d955-dd34-4215-e6b8-245d0706a452"
      },
      "execution_count": 15,
      "outputs": [
        {
          "output_type": "stream",
          "name": "stdout",
          "text": [
            "Digite o valor do seu salário por hora: 5\n",
            "Digite o número de horas trabalhadas no mês: 200\n",
            "Seu salário mensal é: 1000.0\n"
          ]
        }
      ]
    },
    {
      "cell_type": "code",
      "source": [
        "#Questão 9\n",
        "valor = float(input(\"Digite um valor: \"))\n",
        "if valor > 0:\n",
        "    print(\"O valor é positivo.\")\n",
        "elif valor < 0:\n",
        "    print(\"O valor é negativo.\")\n",
        "else:\n",
        "    print(\"O valor é zero.\")"
      ],
      "metadata": {
        "colab": {
          "base_uri": "https://localhost:8080/"
        },
        "id": "01fMkiDroQfl",
        "outputId": "42f4ef71-84af-4674-8f3d-dd0d7e713294"
      },
      "execution_count": 16,
      "outputs": [
        {
          "output_type": "stream",
          "name": "stdout",
          "text": [
            "Digite um valor: -15\n",
            "O valor é negativo.\n"
          ]
        }
      ]
    },
    {
      "cell_type": "code",
      "source": [
        "#Questão 10\n",
        "letra = input(\"Digite a letra referente ao seu sexo, sendo F para feminino e M para masculino: \")\n",
        "if letra == \"F\" or letra == \"f\":\n",
        "    print(\"F - Feminino\")\n",
        "elif letra == \"M\" or letra == \"m\":\n",
        "    print(\"M - Masculino\")\n",
        "else:\n",
        "    print(\"Sexo Inválido\")"
      ],
      "metadata": {
        "colab": {
          "base_uri": "https://localhost:8080/"
        },
        "id": "UEUwkt8KoZbu",
        "outputId": "6ed861e6-cc8b-44d7-a186-36e0a5b482f4"
      },
      "execution_count": 18,
      "outputs": [
        {
          "output_type": "stream",
          "name": "stdout",
          "text": [
            "Digite a letra referente ao seu sexo, sendo F para feminino e M para masculino: f\n",
            "F - Feminino\n"
          ]
        }
      ]
    }
  ]
}